{
 "cells": [
  {
   "cell_type": "markdown",
   "metadata": {},
   "source": [
    "Deep learning is a sub-field of machine learning that uses algorithms inspired by the structure and function of the brain's neural networks.\n",
    "\n",
    "\n",
    "Now the algorithms or models that do this learning are based loosely on the structure and function of the brain's neural networks.\n",
    "\n",
    "The neural networks that we use in deep learning aren't actual biological neural networks though. They simply share some characteristics with biological neural networks, and for this reason, we call them artificial neural networks (ANNs)."
   ]
  },
  {
   "cell_type": "code",
   "execution_count": null,
   "metadata": {},
   "outputs": [],
   "source": [
    "An artificial neural network is a computing system that is comprised of a collection of connected units called neurons \n",
    "that are organized into what we call layers.\n",
    "\n",
    "The connected neural units form the so-called network. Each connection between neurons transmits a signal from\n",
    "one neuron to the other. \n",
    "The receiving neuron processes the signal and signals to downstream neurons connected to it within the network.\n"
   ]
  },
  {
   "cell_type": "code",
   "execution_count": null,
   "metadata": {},
   "outputs": [],
   "source": [
    "KERAS Sequential Model"
   ]
  },
  {
   "cell_type": "code",
   "execution_count": null,
   "metadata": {},
   "outputs": [],
   "source": [
    "from keras.models import  Sequential\n",
    "from keras.layers import Dense,Activation\n",
    "\n",
    "model = Sequential(\n",
    "    [Dense(5,input_shape =(3,),activation='relu'),\n",
    "     Dense(2,activation='softmax')])"
   ]
  },
  {
   "cell_type": "code",
   "execution_count": 1,
   "metadata": {},
   "outputs": [
    {
     "name": "stderr",
     "output_type": "stream",
     "text": [
      "/Users/ayushranjan/anaconda3/lib/python3.6/site-packages/h5py/__init__.py:36: FutureWarning: Conversion of the second argument of issubdtype from `float` to `np.floating` is deprecated. In future, it will be treated as `np.float64 == np.dtype(float).type`.\n",
      "  from ._conv import register_converters as _register_converters\n",
      "Using TensorFlow backend.\n"
     ]
    }
   ],
   "source": [
    "#LIBRARIES\n",
    "import keras\n",
    "from keras import backend as K\n",
    "from keras.models import Sequential\n",
    "from keras.layers import Activation\n",
    "from keras.layers.core import Dense\n",
    "from keras.optimizers import Adam\n",
    "from keras.metrics import categorical_crossentropy"
   ]
  },
  {
   "cell_type": "code",
   "execution_count": 2,
   "metadata": {},
   "outputs": [
    {
     "name": "stdout",
     "output_type": "stream",
     "text": [
      "WARNING:tensorflow:From /Users/ayushranjan/anaconda3/lib/python3.6/site-packages/tensorflow/python/ops/resource_variable_ops.py:435: colocate_with (from tensorflow.python.framework.ops) is deprecated and will be removed in a future version.\n",
      "Instructions for updating:\n",
      "Colocations handled automatically by placer.\n"
     ]
    }
   ],
   "source": [
    "#To define a model\n",
    "model = Sequential([\n",
    "    Dense(16, input_shape=(1,), activation='relu'),\n",
    "    Dense(32, activation='relu'),\n",
    "    Dense(2, activation='sigmoid')\n",
    "])"
   ]
  },
  {
   "cell_type": "code",
   "execution_count": 3,
   "metadata": {},
   "outputs": [],
   "source": [
    "#Before we can train our model, we must compile it like so:\n",
    "\n",
    "model.compile(\n",
    "    Adam(lr=.0001), \n",
    "    loss='sparse_categorical_crossentropy', \n",
    "    metrics=['accuracy']\n",
    ")"
   ]
  },
  {
   "cell_type": "code",
   "execution_count": 4,
   "metadata": {},
   "outputs": [
    {
     "ename": "NameError",
     "evalue": "name 'scaled_train_samples' is not defined",
     "output_type": "error",
     "traceback": [
      "\u001b[0;31m---------------------------------------------------------------------------\u001b[0m",
      "\u001b[0;31mNameError\u001b[0m                                 Traceback (most recent call last)",
      "\u001b[0;32m<ipython-input-4-dc9c4c0724f0>\u001b[0m in \u001b[0;36m<module>\u001b[0;34m()\u001b[0m\n\u001b[1;32m      3\u001b[0m \u001b[0;34m\u001b[0m\u001b[0m\n\u001b[1;32m      4\u001b[0m model.fit(\n\u001b[0;32m----> 5\u001b[0;31m     \u001b[0mscaled_train_samples\u001b[0m\u001b[0;34m,\u001b[0m\u001b[0;34m\u001b[0m\u001b[0m\n\u001b[0m\u001b[1;32m      6\u001b[0m     \u001b[0mtrain_labels\u001b[0m\u001b[0;34m,\u001b[0m\u001b[0;34m\u001b[0m\u001b[0m\n\u001b[1;32m      7\u001b[0m     \u001b[0mbatch_size\u001b[0m\u001b[0;34m=\u001b[0m\u001b[0;36m10\u001b[0m\u001b[0;34m,\u001b[0m\u001b[0;34m\u001b[0m\u001b[0m\n",
      "\u001b[0;31mNameError\u001b[0m: name 'scaled_train_samples' is not defined"
     ]
    }
   ],
   "source": [
    "#Finally, we fit our model to the data. Fitting the model to the data means to train the model on the data. \n",
    "#We do this with the following code:\n",
    "\n",
    "model.fit(\n",
    "    scaled_train_samples, \n",
    "    train_labels, \n",
    "    batch_size=10, \n",
    "    epochs=20, \n",
    "    shuffle=True, \n",
    "    verbose=2\n",
    ")\n",
    "\n",
    "'''scaled_train_samples is a numpy array consisting of the training samples.\n",
    "\n",
    "train_labels is a numpy array consisting of the corresponding labels for the training samples.\n",
    "\n",
    "batch_size=10 specifies how many training samples should be sent to the model at once.\n",
    "\n",
    "epochs=20 means that the complete training set (all of the samples) will be passed to the model a total of 20 times.\n",
    "\n",
    "shuffle=True indicates that the data should first be shuffled before being passed to the model.\n",
    "\n",
    "verbose=2 indicates how much logging we will see as the model trains.'''"
   ]
  },
  {
   "cell_type": "code",
   "execution_count": null,
   "metadata": {},
   "outputs": [],
   "source": [
    "#loss function\n",
    "'''The currently available loss functions for Keras are as follows:\n",
    "\n",
    "mean_squared_error\n",
    "mean_absolute_error\n",
    "mean_absolute_percentage_error\n",
    "mean_squared_logarithmic_error\n",
    "squared_hinge\n",
    "hinge\n",
    "categorical_hinge\n",
    "logcosh\n",
    "categorical_crossentropy\n",
    "sparse_categorical_crossentropy\n",
    "binary_crossentropy\n",
    "kullback_leibler_divergence\n",
    "poisson\n",
    "cosine_proximity'''"
   ]
  }
 ],
 "metadata": {
  "kernelspec": {
   "display_name": "Python 3",
   "language": "python",
   "name": "python3"
  },
  "language_info": {
   "codemirror_mode": {
    "name": "ipython",
    "version": 3
   },
   "file_extension": ".py",
   "mimetype": "text/x-python",
   "name": "python",
   "nbconvert_exporter": "python",
   "pygments_lexer": "ipython3",
   "version": "3.6.5"
  }
 },
 "nbformat": 4,
 "nbformat_minor": 2
}
