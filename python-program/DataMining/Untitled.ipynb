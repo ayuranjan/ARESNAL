{
 "cells": [
  {
   "cell_type": "code",
   "execution_count": 15,
   "metadata": {},
   "outputs": [],
   "source": [
    "import pandas as pd"
   ]
  },
  {
   "cell_type": "code",
   "execution_count": 16,
   "metadata": {},
   "outputs": [],
   "source": [
    "data = pd.read_csv(\"crime.csv\")"
   ]
  },
  {
   "cell_type": "code",
   "execution_count": 17,
   "metadata": {},
   "outputs": [
    {
     "name": "stdout",
     "output_type": "stream",
     "text": [
      "          cdatetime                                address  district  \\\n",
      "0       1/1/06 0:00                     3108 OCCIDENTAL DR         3   \n",
      "1       1/1/06 0:00                    2082 EXPEDITION WAY         5   \n",
      "2       1/1/06 0:00                             4 PALEN CT         2   \n",
      "3       1/1/06 0:00                         22 BECKFORD CT         6   \n",
      "4       1/1/06 0:00                       3421 AUBURN BLVD         2   \n",
      "5       1/1/06 0:00                     5301 BONNIEMAE WAY         6   \n",
      "6       1/1/06 0:00                          2217 16TH AVE         4   \n",
      "7       1/1/06 0:00                              3547 P ST         3   \n",
      "8       1/1/06 0:00                       3421 AUBURN BLVD         2   \n",
      "9       1/1/06 0:00                      1326 HELMSMAN WAY         1   \n",
      "10      1/1/06 0:00                     2315 STOCKTON BLVD         6   \n",
      "11      1/1/06 0:00                           5112 63RD ST         6   \n",
      "12      1/1/06 0:00                      6351 DRIFTWOOD ST         4   \n",
      "13      1/1/06 0:00                   7721 COLLEGE TOWN DR         3   \n",
      "14      1/1/06 0:00                        8460 ROVANA CIR         6   \n",
      "15      1/1/06 0:00                          4856 11TH AVE         6   \n",
      "16      1/1/06 0:00                           6033 69TH ST         6   \n",
      "17      1/1/06 0:00                               547 L ST         3   \n",
      "18      1/1/06 0:00                           3525 42ND ST         6   \n",
      "19      1/1/06 0:00                        5641 DORSET WAY         4   \n",
      "20      1/1/06 0:01                       5551 REXLEIGH CT         5   \n",
      "21      1/1/06 0:01                         1896 ARDEN WAY         2   \n",
      "22      1/1/06 0:01                    6168 RIVERSIDE BLVD         4   \n",
      "23      1/1/06 0:01                        415 SEXTANT WAY         2   \n",
      "24      1/1/06 0:01                            15 BASIN CT         5   \n",
      "25      1/1/06 0:01                           3340 62ND ST         6   \n",
      "26      1/1/06 0:01                      4280 DEER HILL DR         5   \n",
      "27      1/1/06 0:01                            2814 5TH ST         4   \n",
      "28      1/1/06 0:01                         1816 FLORIN RD         5   \n",
      "29      1/1/06 0:01                          1260 BELL AVE         2   \n",
      "...             ...                                    ...       ...   \n",
      "7554  1/31/06 21:42                     6125 STOCKTON BLVD         6   \n",
      "7555  1/31/06 21:50                      6645 VALLEY HI DR         5   \n",
      "7556  1/31/06 21:52            DIXIEANNE AVE / ERICKSON ST         2   \n",
      "7557  1/31/06 22:00                     2400 DEL PASO BLVD         2   \n",
      "7558  1/31/06 22:00                        8689 CARLIN AVE         5   \n",
      "7559  1/31/06 22:00  23RD AVE / MARTIN LUTHER KING JR BLVD         6   \n",
      "7560  1/31/06 22:00                     47TH ST / 14TH AVE         6   \n",
      "7561  1/31/06 22:00                     BROADWAY / 42ND ST         6   \n",
      "7562  1/31/06 22:04                         13TH ST / G ST         3   \n",
      "7563  1/31/06 22:09                   34TH ST / TEMPLE AVE         6   \n",
      "7564  1/31/06 22:14         STOCKTON BLVD / ELDER CREEK RD         6   \n",
      "7565  1/31/06 22:15                           1225 48TH ST         3   \n",
      "7566  1/31/06 22:20                           1416 18TH ST         3   \n",
      "7567  1/31/06 22:30                             925 3RD ST         3   \n",
      "7568  1/31/06 22:30                         16TH ST / Q ST         3   \n",
      "7569  1/31/06 22:30                      34TH ST / 3RD AVE         6   \n",
      "7570  1/31/06 22:30                           1856 3RD AVE         4   \n",
      "7571  1/31/06 22:57                TAFT ST / EL CAMINO AVE         2   \n",
      "7572  1/31/06 23:00                         X ST / 33RD ST         6   \n",
      "7573  1/31/06 23:00                           3543 1ST AVE         6   \n",
      "7574  1/31/06 23:00                         3651 BRANCH ST         2   \n",
      "7575  1/31/06 23:00                     1857 DISCOVERY WAY         6   \n",
      "7576  1/31/06 23:11               NATOMA WAY / ROANOKE AVE         2   \n",
      "7577  1/31/06 23:27                     7897 LA RIVIERA DR         3   \n",
      "7578  1/31/06 23:31                39TH ST / STOCKTON BLVD         6   \n",
      "7579  1/31/06 23:36                         26TH ST / G ST         3   \n",
      "7580  1/31/06 23:40                     4011 FREEPORT BLVD         4   \n",
      "7581  1/31/06 23:41                         30TH ST / K ST         3   \n",
      "7582  1/31/06 23:45                     5303 FRANKLIN BLVD         4   \n",
      "7583  1/31/06 23:50      COBBLE COVE LN / COBBLE SHORES DR         4   \n",
      "\n",
      "            beat  grid                      crimedescr  ucr_ncic_code  \\\n",
      "0     3C          1115   10851(A)VC TAKE VEH W/O OWNER           2404   \n",
      "1     5A          1512      459 PC  BURGLARY RESIDENCE           2204   \n",
      "2     2A           212   10851(A)VC TAKE VEH W/O OWNER           2404   \n",
      "3     6C          1443    476 PC PASS FICTICIOUS CHECK           2501   \n",
      "4     2A           508    459 PC  BURGLARY-UNSPECIFIED           2299   \n",
      "5     6B          1084   530.5 PC USE PERSONAL ID INFO           2604   \n",
      "6     4A           957        459 PC  BURGLARY VEHICLE           2299   \n",
      "7     3C           853     484 PC   PETTY THEFT/INSIDE           2308   \n",
      "8     2A           508       459 PC  BURGLARY BUSINESS           2203   \n",
      "9     1B           444         1708 US   THEFT OF MAIL           2310   \n",
      "10    6B          1005     ASSAULT WITH WEAPON - I RPT           7000   \n",
      "11    6B          1088   530.5 PC USE PERSONAL ID INFO           2604   \n",
      "12    4C          1261      SUSP PERS-NO CRIME - I RPT           7000   \n",
      "13    3C           888   530.5 PC USE PERSONAL ID INFO           2604   \n",
      "14    6C          1447    484G(B) PC ACCESS CARD FRAUD           2605   \n",
      "15    6B          1054           487(A) PC GRAND THEFT           2303   \n",
      "16    6C          1403                 TELEPEST -I RPT           7000   \n",
      "17    3M           742       487(A) GRAND THEFT-INSIDE           2308   \n",
      "18    6A          1034   530.5 PC USE PERSONAL ID INFO           2604   \n",
      "19    4C          1225       484J PC PUBLISH CARD INFO           2605   \n",
      "20    5C          1661        459 PC  BURGLARY VEHICLE           2299   \n",
      "21    2C           628    484G(B) PC ACCESS CARD FRAUD           2605   \n",
      "22    4C          1251              484 PC PETTY THEFT           2399   \n",
      "23    2A           213        459 PC  BURGLARY VEHICLE           2299   \n",
      "24    5C          1654                 TRAFFIC - I RPT           7000   \n",
      "25    6B          1047    594(B)(1)PC  VANDALISM +$400           2999   \n",
      "26    5B          1616    484G(B) PC ACCESS CARD FRAUD           2605   \n",
      "27    4A           923    484 PC  PETTY THEFT/ OUTSIDE           2309   \n",
      "28    5A          1361              HARASSMENT - I RPT           7000   \n",
      "29    2A           235              484 PC PETTY THEFT           2399   \n",
      "...          ...   ...                             ...            ...   \n",
      "7554  6B          1421  368(C) CAUSE PAIN/INJ TO ELDER           1315   \n",
      "7555  5C          1623  243(E)1 BATTERY NONCOHAB SPOUS           1315   \n",
      "7556  2C           604   10851(A)VC TAKE VEH W/O OWNER           2404   \n",
      "7557  2B           564    11359 HS POSS FOR SALE MARIJ           3560   \n",
      "7558  5C          1653   10851(A)VC TAKE VEH W/O OWNER           2404   \n",
      "7559  6A          1081   10851(A)VC TAKE VEH W/O OWNER           2404   \n",
      "7560              1053  11378 HS POSS/SALE AMPHETAMINE           3571   \n",
      "7561  6A          1015        647(B) PC   PROSTITUTION           4004   \n",
      "7562  3A           725   12020(A)1) PROHIBITED FIREARM           5212   \n",
      "7563  6A          1051    11377(A)HS POSS AMPHETAMINES           3572   \n",
      "7564  6C          1421     TRAFFIC-ACCIDENT-NON INJURY           5400   \n",
      "7565  3C           845   594(B)(2)(A) VANDALISM/ -$400           2999   \n",
      "7566  3B           766   594(B)(2)(A) VANDALISM/ -$400           2999   \n",
      "7567  3M           732  537(A)(1) DEFRAUD INKEEP/-$400           2399   \n",
      "7568  3A           766   10851(A)VC TAKE VEH W/O OWNER           2404   \n",
      "7569  6A          1022        647(B) PC   PROSTITUTION           4004   \n",
      "7570  4A           926     MISCELLANEOUS I RPT (ZMISC)           7000   \n",
      "7571  2C           564     TRAFFIC-ACCIDENT-NON INJURY           5400   \n",
      "7572  6A          1001   10851(A)VC TAKE VEH W/O OWNER           2404   \n",
      "7573  6A          1013        459 PC  BURGLARY VEHICLE           2299   \n",
      "7574  2A           513        459 PC  BURGLARY VEHICLE           2299   \n",
      "7575  6B          1006    484 PC  PETTY THEFT/ OUTSIDE           2309   \n",
      "7576  2A           516  10853 VC MALIC MISCHIEF TO VEH           2999   \n",
      "7577  3C           888                20002(A) HIT/RUN           5401   \n",
      "7578  6B          1005                 CASUALTY REPORT           7000   \n",
      "7579  3B           728   594(B)(2)(A) VANDALISM/ -$400           2999   \n",
      "7580  4A           957       459 PC  BURGLARY BUSINESS           2203   \n",
      "7581  3C           841         TRAFFIC-ACCIDENT INJURY           5400   \n",
      "7582  4B           969         3056 PAROLE VIO - I RPT           7000   \n",
      "7583  4C          1294     TRAFFIC-ACCIDENT-NON INJURY           5400   \n",
      "\n",
      "       latitude   longitude  \n",
      "0     38.550420 -121.391416  \n",
      "1     38.473501 -121.490186  \n",
      "2     38.657846 -121.462101  \n",
      "3     38.506774 -121.426951  \n",
      "4     38.637448 -121.384613  \n",
      "5     38.526979 -121.451338  \n",
      "6     38.537173 -121.487577  \n",
      "7     38.564335 -121.461883  \n",
      "8     38.637448 -121.384613  \n",
      "9     38.609602 -121.491838  \n",
      "10    38.554264 -121.454604  \n",
      "11    38.528165 -121.431453  \n",
      "12    38.510922 -121.548820  \n",
      "13    38.556115 -121.414273  \n",
      "14    38.503981 -121.392399  \n",
      "15    38.541529 -121.449510  \n",
      "16    38.516573 -121.423475  \n",
      "17    38.581846 -121.501166  \n",
      "18    38.542708 -121.457207  \n",
      "19    38.524600 -121.520361  \n",
      "20    38.446592 -121.442378  \n",
      "21    38.596642 -121.423349  \n",
      "22    38.515124 -121.529103  \n",
      "23    38.656601 -121.456045  \n",
      "24    38.442815 -121.409524  \n",
      "25    38.543804 -121.433283  \n",
      "26    38.471219 -121.454739  \n",
      "27    38.556452 -121.512331  \n",
      "28    38.495353 -121.496560  \n",
      "29    38.647174 -121.437517  \n",
      "...         ...         ...  \n",
      "7554  38.515466 -121.436251  \n",
      "7555  38.471855 -121.428862  \n",
      "7556  38.609299 -121.445035  \n",
      "7557  38.611410 -121.447654  \n",
      "7558  38.443162 -121.434981  \n",
      "7559  38.532135 -121.464702  \n",
      "7560  38.539429 -121.451456  \n",
      "7561  38.546747 -121.457802  \n",
      "7562  38.582452 -121.487787  \n",
      "7563  38.539180 -121.470547  \n",
      "7564  38.510505 -121.435864  \n",
      "7565  38.564280 -121.444536  \n",
      "7566  38.572365 -121.485030  \n",
      "7567  38.583309 -121.502418  \n",
      "7568  38.570370 -121.488567  \n",
      "7569  38.551995 -121.469784  \n",
      "7570  38.553461 -121.491734  \n",
      "7571  38.611062 -121.438120  \n",
      "7572  38.556343 -121.469392  \n",
      "7573  38.553790 -121.466571  \n",
      "7574  38.634445 -121.444168  \n",
      "7575  38.556651 -121.447707  \n",
      "7576  38.634588 -121.422174  \n",
      "7577  38.557901 -121.410635  \n",
      "7578  38.556639 -121.459745  \n",
      "7579  38.577832 -121.470460  \n",
      "7580  38.537591 -121.492591  \n",
      "7581  38.572030 -121.467012  \n",
      "7582  38.527187 -121.471248  \n",
      "7583  38.479628 -121.528634  \n",
      "\n",
      "[7584 rows x 9 columns]\n"
     ]
    }
   ],
   "source": [
    "print(data)"
   ]
  },
  {
   "cell_type": "code",
   "execution_count": 5,
   "metadata": {},
   "outputs": [
    {
     "name": "stdout",
     "output_type": "stream",
     "text": [
      "0                          3108 OCCIDENTAL DR\n",
      "1                         2082 EXPEDITION WAY\n",
      "2                                  4 PALEN CT\n",
      "3                              22 BECKFORD CT\n",
      "4                            3421 AUBURN BLVD\n",
      "5                          5301 BONNIEMAE WAY\n",
      "6                               2217 16TH AVE\n",
      "7                                   3547 P ST\n",
      "8                            3421 AUBURN BLVD\n",
      "9                           1326 HELMSMAN WAY\n",
      "10                         2315 STOCKTON BLVD\n",
      "11                               5112 63RD ST\n",
      "12                          6351 DRIFTWOOD ST\n",
      "13                       7721 COLLEGE TOWN DR\n",
      "14                            8460 ROVANA CIR\n",
      "15                              4856 11TH AVE\n",
      "16                               6033 69TH ST\n",
      "17                                   547 L ST\n",
      "18                               3525 42ND ST\n",
      "19                            5641 DORSET WAY\n",
      "20                           5551 REXLEIGH CT\n",
      "21                             1896 ARDEN WAY\n",
      "22                        6168 RIVERSIDE BLVD\n",
      "23                            415 SEXTANT WAY\n",
      "24                                15 BASIN CT\n",
      "25                               3340 62ND ST\n",
      "26                          4280 DEER HILL DR\n",
      "27                                2814 5TH ST\n",
      "28                             1816 FLORIN RD\n",
      "29                              1260 BELL AVE\n",
      "                        ...                  \n",
      "7554                       6125 STOCKTON BLVD\n",
      "7555                        6645 VALLEY HI DR\n",
      "7556              DIXIEANNE AVE / ERICKSON ST\n",
      "7557                       2400 DEL PASO BLVD\n",
      "7558                          8689 CARLIN AVE\n",
      "7559    23RD AVE / MARTIN LUTHER KING JR BLVD\n",
      "7560                       47TH ST / 14TH AVE\n",
      "7561                       BROADWAY / 42ND ST\n",
      "7562                           13TH ST / G ST\n",
      "7563                     34TH ST / TEMPLE AVE\n",
      "7564           STOCKTON BLVD / ELDER CREEK RD\n",
      "7565                             1225 48TH ST\n",
      "7566                             1416 18TH ST\n",
      "7567                               925 3RD ST\n",
      "7568                           16TH ST / Q ST\n",
      "7569                        34TH ST / 3RD AVE\n",
      "7570                             1856 3RD AVE\n",
      "7571                  TAFT ST / EL CAMINO AVE\n",
      "7572                           X ST / 33RD ST\n",
      "7573                             3543 1ST AVE\n",
      "7574                           3651 BRANCH ST\n",
      "7575                       1857 DISCOVERY WAY\n",
      "7576                 NATOMA WAY / ROANOKE AVE\n",
      "7577                       7897 LA RIVIERA DR\n",
      "7578                  39TH ST / STOCKTON BLVD\n",
      "7579                           26TH ST / G ST\n",
      "7580                       4011 FREEPORT BLVD\n",
      "7581                           30TH ST / K ST\n",
      "7582                       5303 FRANKLIN BLVD\n",
      "7583        COBBLE COVE LN / COBBLE SHORES DR\n",
      "Name: address, Length: 7584, dtype: object\n"
     ]
    }
   ],
   "source": [
    "print(data['address'])"
   ]
  },
  {
   "cell_type": "code",
   "execution_count": 18,
   "metadata": {},
   "outputs": [
    {
     "name": "stdout",
     "output_type": "stream",
     "text": [
      "6033 69TH ST\n"
     ]
    }
   ],
   "source": [
    "print(data['address'][16])"
   ]
  },
  {
   "cell_type": "code",
   "execution_count": 10,
   "metadata": {},
   "outputs": [],
   "source": [
    "data1 = [['E001', 'M', 34, 123, 'Normal', 350], \n",
    "\t\t['E002', 'F', 40, 114, 'Overweight', 450], \n",
    "\t\t['E003', 'F', 37, 135, 'Obesity', 169], \n",
    "\t\t['E004', 'M', 30, 139, 'Underweight', 189], \n",
    "\t\t['E005', 'F', 44, 117, 'Underweight', 183], \n",
    "\t\t['E006', 'M', 36, 121, 'Normal', 80], \n",
    "\t\t['E007', 'M', 32, 133, 'Obesity', 166], \n",
    "\t\t['E008', 'F', 26, 140, 'Normal', 120], \n",
    "\t\t['E009', 'M', 32, 133, 'Normal', 75], \n",
    "\t\t['E010', 'M', 36, 133, 'Underweight', 40] ] \n",
    "\n",
    "\n",
    "df = pd.DataFrame(data, columns = ['EMPID', 'Gender', \n",
    "\t\t\t\t\t\t\t\t\t'Age', 'Sales', \n",
    "\t\t\t\t\t\t\t\t\t'BMI', 'Income'] ) "
   ]
  },
  {
   "cell_type": "code",
   "execution_count": 11,
   "metadata": {},
   "outputs": [
    {
     "name": "stdout",
     "output_type": "stream",
     "text": [
      "  EMPID Gender  Age  Sales          BMI  Income\n",
      "0  E001      M   34    123       Normal     350\n",
      "1  E002      F   40    114   Overweight     450\n",
      "2  E003      F   37    135      Obesity     169\n",
      "3  E004      M   30    139  Underweight     189\n",
      "4  E005      F   44    117  Underweight     183\n",
      "5  E006      M   36    121       Normal      80\n",
      "6  E007      M   32    133      Obesity     166\n",
      "7  E008      F   26    140       Normal     120\n",
      "8  E009      M   32    133       Normal      75\n",
      "9  E010      M   36    133  Underweight      40\n"
     ]
    }
   ],
   "source": [
    "print(df)"
   ]
  },
  {
   "cell_type": "code",
   "execution_count": 12,
   "metadata": {},
   "outputs": [],
   "source": [
    "df.to_csv('data.csv')"
   ]
  },
  {
   "cell_type": "code",
   "execution_count": 13,
   "metadata": {},
   "outputs": [],
   "source": [
    "import matplotlib.pyplot as plt"
   ]
  },
  {
   "cell_type": "code",
   "execution_count": 20,
   "metadata": {},
   "outputs": [],
   "source": [
    "data_new = {'Genre':['Biography','Action','Romance','Comedy','Horror'],\n",
    "            'TotalVotes' :[65,75,80,90,60]\n",
    "           }"
   ]
  },
  {
   "cell_type": "code",
   "execution_count": 21,
   "metadata": {},
   "outputs": [],
   "source": [
    "df_new = pd.DataFrame(data_new)"
   ]
  },
  {
   "cell_type": "code",
   "execution_count": 23,
   "metadata": {},
   "outputs": [
    {
     "name": "stdout",
     "output_type": "stream",
     "text": [
      "       Genre  TotalVotes\n",
      "0  Biography          65\n",
      "1     Action          75\n",
      "2    Romance          80\n",
      "3     Comedy          90\n",
      "4     Horror          60\n"
     ]
    }
   ],
   "source": [
    "print(df_new)"
   ]
  },
  {
   "cell_type": "code",
   "execution_count": 24,
   "metadata": {},
   "outputs": [],
   "source": [
    "df_new.to_csv('data_new.csv')"
   ]
  },
  {
   "cell_type": "code",
   "execution_count": 25,
   "metadata": {},
   "outputs": [],
   "source": [
    "data_value = pd.read_csv('data_new.csv')"
   ]
  },
  {
   "cell_type": "code",
   "execution_count": 26,
   "metadata": {},
   "outputs": [
    {
     "name": "stdout",
     "output_type": "stream",
     "text": [
      "   Unnamed: 0      Genre  TotalVotes\n",
      "0           0  Biography          65\n",
      "1           1     Action          75\n",
      "2           2    Romance          80\n",
      "3           3     Comedy          90\n",
      "4           4     Horror          60\n"
     ]
    }
   ],
   "source": [
    "print(data_value)"
   ]
  },
  {
   "cell_type": "code",
   "execution_count": 29,
   "metadata": {},
   "outputs": [],
   "source": [
    "Votes = data_value[\"TotalVotes\"]\n",
    "Genre = data_value[\"Genre\"]"
   ]
  },
  {
   "cell_type": "code",
   "execution_count": 65,
   "metadata": {},
   "outputs": [],
   "source": [
    "x=list(Genre)\n",
    "y=list(Votes)"
   ]
  },
  {
   "cell_type": "code",
   "execution_count": 31,
   "metadata": {},
   "outputs": [
    {
     "name": "stdout",
     "output_type": "stream",
     "text": [
      "['Biography', 'Action', 'Romance', 'Comedy', 'Horror'] [65, 75, 80, 90, 60]\n"
     ]
    }
   ],
   "source": [
    "print(x,y)"
   ]
  },
  {
   "cell_type": "code",
   "execution_count": 32,
   "metadata": {},
   "outputs": [
    {
     "data": {
      "image/png": "[encoded data removed]",
      "text/plain": [
       "<Figure size 432x288 with 1 Axes>"
      ]
     },
     "metadata": {},
     "output_type": "display_data"
    }
   ],
   "source": [
    "#To draw a scatter plot, we write\n",
    "\n",
    "plt.scatter(x,y)\n",
    "plt.xlabel('Genre->')\n",
    "plt.ylabel('Total Votes->')\n",
    "plt.title('Data')\n",
    "plt.show()"
   ]
  },
  {
   "cell_type": "code",
   "execution_count": 49,
   "metadata": {},
   "outputs": [
    {
     "data": {
      "image/png": "[encoded data removed]",
      "text/plain": [
       "<Figure size 432x288 with 1 Axes>"
      ]
     },
     "metadata": {},
     "output_type": "display_data"
    }
   ],
   "source": [
    "plt.bar(x,y)\n",
    "plt.show()"
   ]
  },
  {
   "cell_type": "code",
   "execution_count": 50,
   "metadata": {},
   "outputs": [
    {
     "data": {
      "image/png": "[encoded data removed]",
      "text/plain": [
       "<Figure size 432x288 with 1 Axes>"
      ]
     },
     "metadata": {},
     "output_type": "display_data"
    }
   ],
   "source": [
    "plt.pie(y, labels=x, startangle=90, autopct='%.1f%%')\n",
    "plt.show()"
   ]
  },
  {
   "cell_type": "code",
   "execution_count": 60,
   "metadata": {},
   "outputs": [
    {
     "data": {
      "image/png": "[encoded data removed]",
      "text/plain": [
       "<Figure size 432x288 with 1 Axes>"
      ]
     },
     "metadata": {},
     "output_type": "display_data"
    }
   ],
   "source": [
    "import matplotlib.pyplot as plt\n",
    " \n",
    "value1 = [82,76,24,40,67,62,75]\n",
    "value2=[62,5,91,25,36,32,96]\n",
    "value3=[23,89,12,78,72,89,25]\n",
    "value4=[59,73,70,16,81,61,88]\n",
    " \n",
    "box_plot_data=[value1,value2,value3,value4]\n",
    "plt.boxplot(box_plot_data,patch_artist=True,labels=['course1','course2','course3','course4'])\n",
    "plt.show()"
   ]
  },
  {
   "cell_type": "code",
   "execution_count": 61,
   "metadata": {},
   "outputs": [
    {
     "data": {
      "image/png": "[encoded data removed]",
      "text/plain": [
       "<Figure size 432x288 with 1 Axes>"
      ]
     },
     "metadata": {},
     "output_type": "display_data"
    }
   ],
   "source": [
    "plt.plot(x, y)\n",
    "plt.show()"
   ]
  },
  {
   "cell_type": "code",
   "execution_count": 69,
   "metadata": {},
   "outputs": [
    {
     "name": "stderr",
     "output_type": "stream",
     "text": [
      "/Users/ayushranjan/anaconda3/lib/python3.6/site-packages/ipykernel_launcher.py:5: DeprecationWarning: This function is deprecated. Please call randint(1, 100 + 1) instead\n",
      "  \"\"\"\n"
     ]
    },
    {
     "data": {
      "image/png": "[encoded data removed]",
      "text/plain": [
       "<Figure size 432x288 with 1 Axes>"
      ]
     },
     "metadata": {},
     "output_type": "display_data"
    }
   ],
   "source": [
    "\n",
    "import matplotlib.pyplot as plt\n",
    "import numpy as np\n",
    "import pandas as pd\n",
    "x = np.random.random_integers(1, 100, 5)\n",
    "plt.hist(x, bins=20)\n",
    "plt.ylabel('No of times')\n",
    "plt.show()"
   ]
  },
  {
   "cell_type": "code",
   "execution_count": null,
   "metadata": {},
   "outputs": [],
   "source": []
  }
 ],
 "metadata": {
  "kernelspec": {
   "display_name": "Python 3",
   "language": "python",
   "name": "python3"
  },
  "language_info": {
   "codemirror_mode": {
    "name": "ipython",
    "version": 3
   },
   "file_extension": ".py",
   "mimetype": "text/x-python",
   "name": "python",
   "nbconvert_exporter": "python",
   "pygments_lexer": "ipython3",
   "version": "3.6.5"
  }
 },
 "nbformat": 4,
 "nbformat_minor": 2
}
